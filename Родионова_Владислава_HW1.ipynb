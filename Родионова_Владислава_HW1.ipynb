{
  "nbformat": 4,
  "nbformat_minor": 0,
  "metadata": {
    "kernelspec": {
      "display_name": "Python 3 (ipykernel)",
      "language": "python",
      "name": "python3"
    },
    "language_info": {
      "codemirror_mode": {
        "name": "ipython",
        "version": 3
      },
      "file_extension": ".py",
      "mimetype": "text/x-python",
      "name": "python",
      "nbconvert_exporter": "python",
      "pygments_lexer": "ipython3",
      "version": "3.8.6"
    },
    "colab": {
      "name": "Родионова_Владислава_HW1",
      "provenance": [],
      "collapsed_sections": [
        "1BZBCk5mmB-0",
        "Zz7zK33DmB-6",
        "5fQg1mzemB_E",
        "_RpGCxj3mB_H",
        "ykzOQoYamB_K"
      ]
    }
  },
  "cells": [
    {
      "cell_type": "markdown",
      "metadata": {
        "id": "1BZBCk5mmB-0"
      },
      "source": [
        "# Домашнее задание №1 (25 баллов)\n",
        "\n",
        "## дедлайн 19 сентября 23:59\n",
        "\n",
        "\n",
        "\n",
        "Цель:\n",
        "\n",
        "Отработать навыки работы с основными типами данных в Python."
      ]
    },
    {
      "cell_type": "markdown",
      "metadata": {
        "id": "LZn14yIamB-4"
      },
      "source": [
        "**NB!** Задания необходимо выполнять таким образом, что переменную/-ые можно было заменить на схожее слово/число/текст/список/и т.д., при этом задание все равно выполнялось бы верно."
      ]
    },
    {
      "cell_type": "markdown",
      "metadata": {
        "id": "rXWlFw-wmB-5"
      },
      "source": [
        "_Оценку 9 или 10 можно получить, если выполнить домашнее задание до 16 сентября 18:10 (бонусное задание в т.ч.)_"
      ]
    },
    {
      "cell_type": "markdown",
      "metadata": {
        "id": "Zz7zK33DmB-6"
      },
      "source": [
        "### Часть 1. Переменные, арифметические операции (7 баллов)"
      ]
    },
    {
      "cell_type": "markdown",
      "metadata": {
        "id": "-p1ThRvGmB-7"
      },
      "source": [
        "1. (1 балл) Создайте две переменные $a$ и $b$ и присвойте им значение $91$ и $-12$, соответственно.\n",
        "Какой тип имеют эти переменные?"
      ]
    },
    {
      "cell_type": "code",
      "metadata": {
        "id": "pEXH413VmB-7",
        "colab": {
          "base_uri": "https://localhost:8080/"
        },
        "outputId": "ba2f3160-4901-4c5f-cc90-49d1531de0d6"
      },
      "source": [
        "a = 91\n",
        "b = -12\n",
        "print(a)\n",
        "print(\"Число a относится к\", (type(a)))\n",
        "print(b)\n",
        "print(\"Число b относится к\", (type(b)))"
      ],
      "execution_count": null,
      "outputs": [
        {
          "output_type": "stream",
          "name": "stdout",
          "text": [
            "91\n",
            "Число a относится к <class 'int'>\n",
            "-12\n",
            "Число b относится к <class 'int'>\n"
          ]
        }
      ]
    },
    {
      "cell_type": "markdown",
      "metadata": {
        "id": "7uvknJ4xmB-9"
      },
      "source": [
        "2. (1 балл) Посчитайте:\n",
        "\n",
        "    * разность a - b\n",
        "\n",
        "    * сумму a + b"
      ]
    },
    {
      "cell_type": "code",
      "metadata": {
        "id": "opg4FgsCmB--",
        "colab": {
          "base_uri": "https://localhost:8080/"
        },
        "outputId": "2ce7185c-1a15-4c80-9030-03893303ad0d"
      },
      "source": [
        "print(\"a - b =\", (a - b))\n",
        "print(\"a + b =\", (a + b))"
      ],
      "execution_count": null,
      "outputs": [
        {
          "output_type": "stream",
          "name": "stdout",
          "text": [
            "a - b = 103\n",
            "a + b = 79\n"
          ]
        }
      ]
    },
    {
      "cell_type": "markdown",
      "metadata": {
        "id": "FLU2CwhwmB-_"
      },
      "source": [
        "3. (1 балл) Вводится целое неотрицательное число $N$. Выведите $2$ в степени $N$."
      ]
    },
    {
      "cell_type": "code",
      "metadata": {
        "id": "8vymxnC6mB_B",
        "colab": {
          "base_uri": "https://localhost:8080/"
        },
        "outputId": "aa548756-96fb-4675-b894-cbab726b08ff"
      },
      "source": [
        "N = int(input ())\n",
        "print(2 ** N)"
      ],
      "execution_count": null,
      "outputs": [
        {
          "output_type": "stream",
          "name": "stdout",
          "text": [
            "8\n",
            "256\n"
          ]
        }
      ]
    },
    {
      "cell_type": "markdown",
      "metadata": {
        "id": "lDcZPjHHmB_B"
      },
      "source": [
        "4. (1 балл) Пётр Иванович хочет испечь большую печеньку. У него есть форма для выпечки диаметром $45$ сантиметров и высотой $5$ сантиметров. Посчитайте, какого объема будет печенька Петра Ивановича. Результат положите в переменную `area_of_circle`"
      ]
    },
    {
      "cell_type": "code",
      "metadata": {
        "colab": {
          "base_uri": "https://localhost:8080/"
        },
        "id": "E3fYtg3U46mQ",
        "outputId": "927ce1a1-207e-4357-e93c-f79830386295"
      },
      "source": [
        "import math\n",
        "d = 45\n",
        "R = d / 2\n",
        "H = 5\n",
        "S = math.pi * (R ** 2)\n",
        "area_of_circle = S * H\n",
        "print(\"Печенька Петра Ивановича будет объемом\", area_of_circle, \"см кубических\")\n",
        "\n"
      ],
      "execution_count": null,
      "outputs": [
        {
          "output_type": "stream",
          "name": "stdout",
          "text": [
            "Печенька Петра Ивановича будет объемом 7952.156404399164 см кубических\n"
          ]
        }
      ]
    },
    {
      "cell_type": "markdown",
      "metadata": {
        "id": "Kd1PBPY3mB_C"
      },
      "source": [
        "5. (1 балл) Белочки делят между собой орешки. Если орешки поровну не делятся, остаток остается в дупле. Напишите программу, которая принимает количество белочек и орешков, а на выходе дает число орешков, которое получит каждая белочка."
      ]
    },
    {
      "cell_type": "code",
      "metadata": {
        "id": "r6WzKLwHmB_C",
        "colab": {
          "base_uri": "https://localhost:8080/"
        },
        "outputId": "95f3fde6-73a2-45af-c081-6e37d57bec64"
      },
      "source": [
        "belochki = int(input ())\n",
        "nuts = int(input ())\n",
        "print(\"Каждая белочка получит орешков в количестве\", (nuts // belochki))"
      ],
      "execution_count": null,
      "outputs": [
        {
          "output_type": "stream",
          "name": "stdout",
          "text": [
            "5\n",
            "8\n",
            "Каждая белочка получит орешков в количестве 1\n"
          ]
        }
      ]
    },
    {
      "cell_type": "markdown",
      "metadata": {
        "id": "Y6jGfqvHmB_D"
      },
      "source": [
        "6. (1 балл) Напишите программу, которая считывает два целых числа $a$ и $b$ и выводит наибольшее значение из них (без использования условий)."
      ]
    },
    {
      "cell_type": "code",
      "metadata": {
        "id": "b23VAe67mB_D",
        "colab": {
          "base_uri": "https://localhost:8080/"
        },
        "outputId": "cbbec264-39cd-44f6-ac53-917e974eb5b0"
      },
      "source": [
        "a = int(input ())\n",
        "b = int(input ())\n",
        "print((((a // b) * a) + ((b // a) * b)) // ((a // b) + (b // a)))"
      ],
      "execution_count": null,
      "outputs": [
        {
          "output_type": "stream",
          "name": "stdout",
          "text": [
            "78\n",
            "6\n",
            "78\n"
          ]
        }
      ]
    },
    {
      "cell_type": "markdown",
      "metadata": {
        "id": "zWtzW4jDmB_D"
      },
      "source": [
        "7. (1 балла) Получите с помощью функции `input()` строку с числом и приведите число в тип `float`. Полученное число присвойте переменной `float_number`"
      ]
    },
    {
      "cell_type": "code",
      "metadata": {
        "id": "eWjtF4OtmB_D",
        "colab": {
          "base_uri": "https://localhost:8080/"
        },
        "outputId": "db5876c6-d240-4cdf-dcc6-17d273cf82a1"
      },
      "source": [
        "chislo = input ()\n",
        "float_number = float(chislo)\n",
        "print(float_number)\n"
      ],
      "execution_count": null,
      "outputs": [
        {
          "output_type": "stream",
          "name": "stdout",
          "text": [
            "8\n",
            "8.0\n"
          ]
        }
      ]
    },
    {
      "cell_type": "markdown",
      "metadata": {
        "id": "5fQg1mzemB_E"
      },
      "source": [
        "### Часть 2. Строки (5 баллов)"
      ]
    },
    {
      "cell_type": "markdown",
      "metadata": {
        "id": "S8061OxKmB_E"
      },
      "source": [
        "8. (1 балл) Используйте на переменную со значением hello методы строк:\n",
        "\n",
        "`.capitalize()`\n",
        "\n",
        "`.lower()`\n",
        "\n",
        "`.upper()`\n",
        "\n",
        "Опишите что они делают в комментарии (пишите ответ как комментарий к пустой строке)"
      ]
    },
    {
      "cell_type": "code",
      "metadata": {
        "id": "m1gi2raAmB_E",
        "colab": {
          "base_uri": "https://localhost:8080/"
        },
        "outputId": "67efc487-ee3f-42ae-8d13-805a1c5fc921"
      },
      "source": [
        "x = \"hello\"\n",
        "print(x.capitalize())\n",
        "print(x.lower())\n",
        "print(x.upper())"
      ],
      "execution_count": null,
      "outputs": [
        {
          "output_type": "stream",
          "name": "stdout",
          "text": [
            "Hello\n",
            "hello\n",
            "HELLO\n"
          ]
        }
      ]
    },
    {
      "cell_type": "code",
      "metadata": {
        "id": "nnuaQKmQe8lW"
      },
      "source": [
        "#capitalize - делает первую букву прописной\n",
        "#lower - делает все буквы строчными\n",
        "#upper - делает все букву прописными"
      ],
      "execution_count": null,
      "outputs": []
    },
    {
      "cell_type": "markdown",
      "metadata": {
        "id": "BdWRgXKpmB_F"
      },
      "source": [
        "9. (1 балл) Создайте две переменные типа `str` (строка) со значениями hello и world (например s1 и s2). Сложите их и напечатайте результат."
      ]
    },
    {
      "cell_type": "code",
      "metadata": {
        "id": "YJhjtMwBmB_F",
        "colab": {
          "base_uri": "https://localhost:8080/"
        },
        "outputId": "618bdc6f-e63e-428b-8501-1cee5de4f35a"
      },
      "source": [
        "x = \"Hello\"\n",
        "y = \"world\"\n",
        "print(x + \" \" + y + \"!\")"
      ],
      "execution_count": null,
      "outputs": [
        {
          "output_type": "stream",
          "name": "stdout",
          "text": [
            "Hello world!\n"
          ]
        }
      ]
    },
    {
      "cell_type": "markdown",
      "metadata": {
        "id": "SA3QW6AGmB_F"
      },
      "source": [
        "10. (1 балл)\n",
        "\n",
        "    - Воспользуйтесь функцией `len()` для того чтобы посчитать длину (количество **символов**) детской песни Солнечный круг \n",
        "    - Посчитайте длину (количество символов) в песне Let it be\n",
        "    - Какая из песен длиннее и на сколько **символов**?\n",
        "\n",
        "_Hint: тексты обеих песен приведены ниже._\n",
        "\n",
        "_Hint 2: `len()` это не метод, а функция_"
      ]
    },
    {
      "cell_type": "code",
      "metadata": {
        "id": "5-uezdnhmB_F"
      },
      "source": [
        "sun_circle  = '''Солнечный круг, небо вокруг\n",
        "Это рисунок мальчишки\n",
        "Нарисовал он на листке\n",
        "И подписал в уголке\n",
        "Пусть всегда будет солнце\n",
        "Пусть всегда будет небо\n",
        "Пусть всегда будет мама\n",
        "Пусть всегда буду я\n",
        "Пусть всегда будет солнце\n",
        "Пусть всегда будет небо\n",
        "Пусть всегда будет мама\n",
        "Пусть всегда буду я\n",
        "Милый мой друг, добрый мой друг\n",
        "Людям так хочется мира\n",
        "И в тридцать пять сердце опять\n",
        "Не устаёт повторять\n",
        "Пусть всегда будет солнце\n",
        "Пусть всегда будет небо\n",
        "Пусть всегда будет мама\n",
        "Пусть всегда буду я\n",
        "Пусть всегда будет солнце\n",
        "Пусть всегда будет небо\n",
        "Пусть всегда будет мама\n",
        "Пусть всегда буду я\n",
        "Тише солдат, слышишь солдат\n",
        "Люди пугаются взрывов\n",
        "Тысячи глаз в небо глядят\n",
        "Губы упрямо твердят\n",
        "Пусть всегда будет солнце\n",
        "Пусть всегда будет небо\n",
        "Пусть всегда будет мама\n",
        "Пусть всегда буду я\n",
        "Пусть всегда будет солнце\n",
        "Пусть всегда будет небо\n",
        "Пусть всегда будет мама\n",
        "Пусть всегда буду я\n",
        "Против беды, против войны\n",
        "Станем за наших мальчишек\n",
        "Солнце навек, счастье навек\n",
        "Так повелел человек\n",
        "Пусть всегда будет солнце\n",
        "Пусть всегда будет небо\n",
        "Пусть всегда будет мама\n",
        "Пусть всегда буду я\n",
        "Пусть всегда будет солнце\n",
        "Пусть всегда будет небо\n",
        "Пусть всегда будет мама\n",
        "Пусть всегда буду я'''\n",
        "\n",
        "\n",
        "let_it_be = '''\n",
        "When I find myself in times of trouble, Mother Mary comes to me\n",
        "Speaking words of wisdom, let it be\n",
        "And in my hour of darkness she is standing right in front of me\n",
        "Speaking words of wisdom, let it be\n",
        "Let it be, let it be, let it be, let it be\n",
        "Whisper words of wisdom, let it be\n",
        "And when the broken-hearted people living in the world agree\n",
        "There will be an answer, let it be\n",
        "For though they may be parted, there is still a chance that they will see\n",
        "There will be an answer, let it be\n",
        "Let it be, let it be, let it be, let it be\n",
        "Yeah, there will be an answer, let it be\n",
        "Let it be, let it be, let it be, let it be\n",
        "Whisper words of wisdom, let it be\n",
        "Let it be, let it be, let it be, yeah, let it be\n",
        "Whisper words of wisdom, let it be\n",
        "And when the night is cloudy there is still a light that shines on me\n",
        "Shine until tomorrow, let it be\n",
        "I wake up to the sound of music, Mother Mary comes to me\n",
        "Speaking words of wisdom, let it be\n",
        "Let it be, let it be, let it be, yeah, let it be\n",
        "There will be an answer, let it be\n",
        "Let it be, let it be, let it be, yeah, let it be\n",
        "There will be an answer, let it be\n",
        "Let it be, let it be, let it be, yeah, let it be\n",
        "Whisper words of wisdom, let it be\n",
        "'''"
      ],
      "execution_count": null,
      "outputs": []
    },
    {
      "cell_type": "code",
      "metadata": {
        "id": "efgy27aOmB_G",
        "colab": {
          "base_uri": "https://localhost:8080/"
        },
        "outputId": "04e412bf-fb4d-40f2-9685-7223bb3c41b1"
      },
      "source": [
        "x = len(sun_circle)\n",
        "print(\"В песне Солнечный круг\", x, \"символов\")\n",
        "\n",
        "y = len(let_it_be)\n",
        "print(\"В песне Let it be\", y, \"символов\")\n",
        "\n",
        "z = (len(let_it_be) - len(sun_circle))\n",
        "print(\"Песня Let it be длиннее песни Солнечный круг на\", z, \"символ\")"
      ],
      "execution_count": null,
      "outputs": [
        {
          "output_type": "stream",
          "name": "stdout",
          "text": [
            "В песне Солнечный круг 1146 символов\n",
            "В песне Let it be 1177 символов\n",
            "Песня Let it be длиннее песни Солнечный круг на 31 символ\n"
          ]
        }
      ]
    },
    {
      "cell_type": "markdown",
      "metadata": {
        "id": "TMfNQBnimB_H"
      },
      "source": [
        "11. (2 балла)\n",
        "\n",
        "    - Чего больше: слов \"Пусть всегда\" в детской песне или слов \"Let it be\" в песне ливерпульской четверки?\n",
        "\n",
        "*Hint: Воспользуйтесь методом `.count()`*\n",
        "\n",
        "*Hint 2: Слова \"Let it be\" встречаются в песне как с заглавной, так и со строчной буквы, учтите это при подсчете*"
      ]
    },
    {
      "cell_type": "code",
      "metadata": {
        "id": "M20HoMm_mB_H",
        "colab": {
          "base_uri": "https://localhost:8080/"
        },
        "outputId": "adc77f1c-308f-412b-d8d6-0d8a09977c24"
      },
      "source": [
        "a = sun_circle.count(\"Пусть всегда\")\n",
        "print('Слов Пусть всегда найдено', a,'раза в песне Солнечный круг')\n",
        "\n",
        "b = let_it_be.count(\"Let it be\")\n",
        "c = let_it_be.count(\"let it be\")\n",
        "print('Слов Let it be найдено', (b + c),'раз в песне Let it be')"
      ],
      "execution_count": null,
      "outputs": [
        {
          "output_type": "stream",
          "name": "stdout",
          "text": [
            "Слов Пусть всегда найдено 32 раза в песне Солнечный круг\n",
            "Слов Let it be найдено 41 раз в песне Let it be\n"
          ]
        }
      ]
    },
    {
      "cell_type": "markdown",
      "metadata": {
        "id": "_RpGCxj3mB_H"
      },
      "source": [
        "### Часть 3. Условия (5 баллов)"
      ]
    },
    {
      "cell_type": "markdown",
      "metadata": {
        "id": "gwBLQuKJmB_H"
      },
      "source": [
        "12. (1 балл) Дано целое число $x$. Проверить, является ли число положительным."
      ]
    },
    {
      "cell_type": "code",
      "metadata": {
        "id": "4rzLvWy_mB_H",
        "colab": {
          "base_uri": "https://localhost:8080/"
        },
        "outputId": "b20d9f03-5b86-4ce7-f3fa-96f53a97834b"
      },
      "source": [
        "x = int(input ())\n",
        "if x > 0:\n",
        "  print(\"Введенное число является положительным\")"
      ],
      "execution_count": null,
      "outputs": [
        {
          "output_type": "stream",
          "name": "stdout",
          "text": [
            "8\n",
            "Введенное число является положительным\n"
          ]
        }
      ]
    },
    {
      "cell_type": "markdown",
      "metadata": {
        "id": "uFWvoRNEmB_I"
      },
      "source": [
        "13. (1 балл) Дано число $x$  типа `float` (с плавающей запятой). Проверить, является ли это число целым.\n",
        "\n",
        "_Hint: можно загуглить 'преобразование типов, python'_"
      ]
    },
    {
      "cell_type": "code",
      "metadata": {
        "colab": {
          "base_uri": "https://localhost:8080/"
        },
        "id": "MpFBSGlBQjc7",
        "outputId": "038b41e5-5339-45c5-b5d1-9334f3b5b590"
      },
      "source": [
        "f = float(input())\n",
        "print(f.is_integer())"
      ],
      "execution_count": null,
      "outputs": [
        {
          "output_type": "stream",
          "name": "stdout",
          "text": [
            "7.5\n",
            "False\n"
          ]
        }
      ]
    },
    {
      "cell_type": "markdown",
      "metadata": {
        "id": "vcZ6JpcVmB_I"
      },
      "source": [
        "14. (1 балл) Напишите программу, которая считывает два целых числа $a$ и $b$ и выводит наибольшее значение из них (c использованием условий)."
      ]
    },
    {
      "cell_type": "code",
      "metadata": {
        "id": "q048UQ-JmB_I",
        "colab": {
          "base_uri": "https://localhost:8080/"
        },
        "outputId": "09f8c5bc-c1ca-4cf0-9249-fcfeb0ffc669"
      },
      "source": [
        "a = int(input ())\n",
        "b = int(input ())\n",
        "\n",
        "if a > b:\n",
        "  print(a)\n",
        "else:\n",
        "  print(b)\n"
      ],
      "execution_count": null,
      "outputs": [
        {
          "output_type": "stream",
          "name": "stdout",
          "text": [
            "90\n",
            "8\n",
            "90\n"
          ]
        }
      ]
    },
    {
      "cell_type": "markdown",
      "metadata": {
        "id": "K8VW6Bs0mB_I"
      },
      "source": [
        "15. (1 балл) Вася уехал учиться по обмену на один семестр в Италию. Единственный магазин в городе открыт с $6$ до $8$ утра и с $16$ до $17$ вечера (включительно). Вася не мог попасть в магазин уже несколько дней и страдает от голода. Он может прийти в магазин в $X$ часов. Если магазин открыт в $X$ часов, то выведите `True`, а если закрыт - выведите `False`."
      ]
    },
    {
      "cell_type": "code",
      "metadata": {
        "id": "Y48nxNQ0mB_I",
        "colab": {
          "base_uri": "https://localhost:8080/"
        },
        "outputId": "6b3b2d9c-4aeb-4222-9a60-7a59c8db6ebf"
      },
      "source": [
        "x = int (input())\n",
        "if x >= 6 and x <=8:\n",
        "  print(True)\n",
        "elif x >= 16 and x <=17:\n",
        "  print(True)\n",
        "else:\n",
        "  print(False)"
      ],
      "execution_count": null,
      "outputs": [
        {
          "output_type": "stream",
          "name": "stdout",
          "text": [
            "23\n",
            "False\n"
          ]
        }
      ]
    },
    {
      "cell_type": "markdown",
      "metadata": {
        "id": "-InnK0GLmB_J"
      },
      "source": [
        "16. (1 балл) Помогите Даше определить, является ли год с данным номером високосным. Если год является високосным, то выведите `YES`, иначе выведите `NO`. Напомним, что в соответствии с григорианским календарем, год является високосным, если его номер кратен 4, но не кратен 100, а также если он кратен 400."
      ]
    },
    {
      "cell_type": "code",
      "metadata": {
        "id": "SzzJTS-EmB_J",
        "colab": {
          "base_uri": "https://localhost:8080/"
        },
        "outputId": "132ddbb8-b0b7-4497-bcf4-c594f3ae4b62"
      },
      "source": [
        "x = int (input())\n",
        "\n",
        "if x % 400 == 0 and x % 100 != 0:\n",
        "    print(x, \"год является високосным\")\n",
        "elif x % 4 == 0 and x % 100 != 0:\n",
        "    print(x, \"год является високосным\")\n",
        "else:\n",
        "    print(x, \"год не является високосным\")\n"
      ],
      "execution_count": null,
      "outputs": [
        {
          "output_type": "stream",
          "name": "stdout",
          "text": [
            "2000\n",
            "2000 год не является високосным\n"
          ]
        }
      ]
    },
    {
      "cell_type": "markdown",
      "metadata": {
        "id": "f4mtffw3mB_J"
      },
      "source": [
        "### Часть 4. Циклы (6 баллов)"
      ]
    },
    {
      "cell_type": "markdown",
      "metadata": {
        "id": "pko9TzIXmB_J"
      },
      "source": [
        "17. (1 балл) Напишите бесконечный цикл (любой)"
      ]
    },
    {
      "cell_type": "code",
      "metadata": {
        "id": "uy25Sn76kHCZ"
      },
      "source": [
        "x = 1\n",
        "while x < 2:\n",
        "  print(\"Oops!\")"
      ],
      "execution_count": null,
      "outputs": []
    },
    {
      "cell_type": "markdown",
      "metadata": {
        "id": "-h3ust4dmB_J"
      },
      "source": [
        "18. (1 балл) Вывести числа от 5 до 20"
      ]
    },
    {
      "cell_type": "code",
      "metadata": {
        "id": "KGbI7mlkmB_J",
        "colab": {
          "base_uri": "https://localhost:8080/"
        },
        "outputId": "cc856853-13e2-4f35-f255-3ca143a74dad"
      },
      "source": [
        "x = 5\n",
        "while x <= 20:\n",
        "    print(x)\n",
        "    x = x + 1"
      ],
      "execution_count": null,
      "outputs": [
        {
          "output_type": "stream",
          "name": "stdout",
          "text": [
            "5\n",
            "6\n",
            "7\n",
            "8\n",
            "9\n",
            "10\n",
            "11\n",
            "12\n",
            "13\n",
            "14\n",
            "15\n",
            "16\n",
            "17\n",
            "18\n",
            "19\n",
            "20\n"
          ]
        }
      ]
    },
    {
      "cell_type": "markdown",
      "metadata": {
        "id": "1qX2tNEdmB_J"
      },
      "source": [
        "19. (1 балл) Вывести все числа от 5 до 20 , кратные 3-м."
      ]
    },
    {
      "cell_type": "code",
      "metadata": {
        "id": "qtN2ECZpmB_K",
        "colab": {
          "base_uri": "https://localhost:8080/"
        },
        "outputId": "cf5cd74c-6206-4808-a175-6e654bd31a79"
      },
      "source": [
        "for i in range(5, 20):\n",
        "    if (i % 3) == 0:\n",
        "        print(i)"
      ],
      "execution_count": null,
      "outputs": [
        {
          "output_type": "stream",
          "name": "stdout",
          "text": [
            "6\n",
            "9\n",
            "12\n",
            "15\n",
            "18\n"
          ]
        }
      ]
    },
    {
      "cell_type": "markdown",
      "metadata": {
        "id": "Pfs3ZBuzmB_K"
      },
      "source": [
        "20. (1 балл) Найти сумму натуральных чисел от 0 до n включительно"
      ]
    },
    {
      "cell_type": "code",
      "metadata": {
        "colab": {
          "base_uri": "https://localhost:8080/"
        },
        "id": "zZFB-sRJnFpf",
        "outputId": "1f6ef37a-bdbe-4c38-81de-ac545d078382"
      },
      "source": [
        "n = int(input())\n",
        "x = 0\n",
        "for i in range(0, n + 1):\n",
        "    x += i\n",
        "print(x)"
      ],
      "execution_count": null,
      "outputs": [
        {
          "output_type": "stream",
          "name": "stdout",
          "text": [
            "5\n",
            "15\n"
          ]
        }
      ]
    },
    {
      "cell_type": "markdown",
      "metadata": {
        "id": "Tejb6jdumB_K"
      },
      "source": [
        "21. (1 балл) Вводится последовательность цифр. Например `\"126543168714\"`. Найти самую большую цифру, сохранить в переменную `largest_number`, вывести ее значение на экран."
      ]
    },
    {
      "cell_type": "code",
      "metadata": {
        "colab": {
          "base_uri": "https://localhost:8080/"
        },
        "id": "rTLkvObkvKVH",
        "outputId": "7ee5392e-7d73-477a-9c8a-9b077709e26f"
      },
      "source": [
        "x = int(input())\n",
        "largest_number = list(str(x))\n",
        "print(max(largest_number))"
      ],
      "execution_count": null,
      "outputs": [
        {
          "name": "stdout",
          "output_type": "stream",
          "text": [
            "6786\n"
          ]
        }
      ]
    },
    {
      "cell_type": "markdown",
      "metadata": {
        "id": "SfqQonqrmB_K"
      },
      "source": [
        "22. (1 балл) Пользователем вводится строка. Проверить, является ли строка палиндромом без использования срезов и списков (мы их еще не проходили). Записать ответ в булевом типе данных в переменную `is_palindrom`, вывести ее значение на экран."
      ]
    },
    {
      "cell_type": "code",
      "metadata": {
        "colab": {
          "base_uri": "https://localhost:8080/"
        },
        "id": "RNLy-TbfbGMj",
        "outputId": "7a647f25-738a-41f8-a3f2-fcb999898fd8"
      },
      "source": [
        "word = input()\n",
        "is_palindrom = True\n",
        "\n",
        "for i in range(0, len(word)):\n",
        "  if word[i] != word[-1-i]:\n",
        "    is_palindrom = False\n",
        "print(is_palindrom)"
      ],
      "execution_count": null,
      "outputs": [
        {
          "output_type": "stream",
          "name": "stdout",
          "text": [
            "tenet\n",
            "True\n"
          ]
        }
      ]
    },
    {
      "cell_type": "markdown",
      "metadata": {
        "id": "ykzOQoYamB_K"
      },
      "source": [
        "### Бонусное задание (2 балла):"
      ]
    },
    {
      "cell_type": "markdown",
      "metadata": {
        "id": "Ao9mr74YmB_L"
      },
      "source": [
        "23. (2 балла) \n",
        "\n",
        "В турецком языке все гласные делятся на:\n",
        "\n",
        "негубные:\n",
        "`non_labials = \"aıei\"`\n",
        "\n",
        "губные:\n",
        "`labials = \"ouöü\"`\n",
        "\n",
        "Суть закона гармонии гласных состоит в следующем: все гласные в слове должны быть из одного класса.\n",
        "\n",
        "Вводится слово. Проверьте, подчиняется ли данное слово закону гармонии гласных в турецком языке. Ответ (`True` или `False`) сохранить в переменную rule и вывести ее на экран.\n",
        "\n",
        "Примеры:\n",
        "\n",
        "yaşlıdı (True)\n",
        "\n",
        "yaşlıdü (False)\n",
        "\n",
        "üzgündü (True)\n",
        "\n",
        "üzgündi (False)"
      ]
    },
    {
      "cell_type": "code",
      "metadata": {
        "id": "uD52bBHAmB_L"
      },
      "source": [
        "# your code here"
      ],
      "execution_count": null,
      "outputs": []
    },
    {
      "cell_type": "markdown",
      "metadata": {
        "id": "Z1BkJELmmB_L"
      },
      "source": [
        "#### Напишите ниже вашу обратную связь по домашнему заданию в комментарии. \n",
        "\n",
        "#### Какие задания показались вам самыми сложными / простыми? Что понравилось, а что нет?"
      ]
    },
    {
      "cell_type": "code",
      "metadata": {
        "id": "PJD14Yp_mB_L"
      },
      "source": [
        ""
      ],
      "execution_count": null,
      "outputs": []
    }
  ]
}